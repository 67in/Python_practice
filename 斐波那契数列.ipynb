{
 "cells": [
  {
   "cell_type": "code",
   "execution_count": 1,
   "metadata": {},
   "outputs": [
    {
     "name": "stdout",
     "output_type": "stream",
     "text": [
      "2\n"
     ]
    }
   ],
   "source": [
    "#def Fibonacci(n):\n",
    " #   if n<3:\n",
    "  #      Fibonacci(1)\n",
    "   # else\n",
    "    #    Fibonacci(n) = Fibonacci(n-1) + Fibonacci(n-2)\n",
    "    #return Fibonacci\n",
    "\n",
    "def Fibonacci(n):\n",
    "    if n<3:\n",
    "        return 1\n",
    "    else:\n",
    "        return Fibonacci(n-1) + Fibonacci(n-2)\n",
    "    \n",
    "print(Fibonacci(3))"
   ]
  },
  {
   "cell_type": "code",
   "execution_count": 2,
   "metadata": {},
   "outputs": [
    {
     "name": "stdout",
     "output_type": "stream",
     "text": [
      "5\n"
     ]
    }
   ],
   "source": [
    "print(Fibonacci(5))\n"
   ]
  },
  {
   "cell_type": "code",
   "execution_count": 4,
   "metadata": {},
   "outputs": [
    {
     "name": "stdout",
     "output_type": "stream",
     "text": [
      "3\n"
     ]
    }
   ],
   "source": [
    "#循环实现\n",
    "def Fibonacci(n):\n",
    "    first = 1\n",
    "    second = 1\n",
    "#    if(n < 3):\n",
    " #       second = 1\n",
    "  #  else:\n",
    "   #     rec = first + second\n",
    "    #    first = second\n",
    "     #second = rec\n",
    "    for i in range(n):\n",
    "        if(i>2):\n",
    "            rec = first + second\n",
    "            first = second\n",
    "            second = rec\n",
    "    return second\n",
    "print(Fibonacci(5))"
   ]
  },
  {
   "cell_type": "code",
   "execution_count": 5,
   "metadata": {},
   "outputs": [
    {
     "name": "stdout",
     "output_type": "stream",
     "text": [
      "[1, 1, 2, 3, 5, 8, 13, 21, 34, 55, 89, 144, 233, 377, 610, 987, 1597, 2584, 4181, 6765]\n"
     ]
    }
   ],
   "source": [
    "lis =[]\n",
    "for i in range(20):\n",
    "    if i ==0 or i ==1:#第1,2项 都为1\n",
    "        lis.append(1)\n",
    "    else:\n",
    "        lis.append(lis[i-2]+lis[i-1])#从第3项开始每项值为前两项值之和\n",
    "print(lis)"
   ]
  },
  {
   "cell_type": "code",
   "execution_count": 8,
   "metadata": {},
   "outputs": [
    {
     "name": "stdout",
     "output_type": "stream",
     "text": [
      "1\n",
      "1\n",
      "2\n",
      "3\n",
      "5\n",
      "8\n",
      "13\n",
      "21\n",
      "34\n",
      "55\n",
      "89\n",
      "144\n",
      "233\n",
      "377\n",
      "610\n",
      "987\n"
     ]
    }
   ],
   "source": [
    "a = 0\n",
    "b = 1\n",
    "while(b < 1000):\n",
    "    print(b )\n",
    "    a, b = b, a+b\n",
    "    "
   ]
  },
  {
   "cell_type": "code",
   "execution_count": 10,
   "metadata": {},
   "outputs": [
    {
     "name": "stdout",
     "output_type": "stream",
     "text": [
      "1,1,2,3,5,8,13,21,34,55,89,144,233,377,610,987,"
     ]
    }
   ],
   "source": [
    "a=0\n",
    "b=1\n",
    "while b < 1000:\n",
    "    print(b,end=',')#end 可以将print输出到同一行并以 ,号结尾\n",
    "    a, b = b, a+b"
   ]
  },
  {
   "cell_type": "markdown",
   "metadata": {},
   "source": [
    "# 第一种 递归法\n",
    "def fib_recur(n):\n",
    "  assert n >= 0, \"n > 0\"\n",
    "  if n <= 1:\n",
    "    return n\n",
    "  return fib_recur(n-1) + fib_recur(n-2)\n",
    "\n",
    "for i in range(1, 20):\n",
    "    print(fib_recur(i), end=' ')\n",
    "写法最简洁，但是效率最低，会出现大量的重复计算，时间复杂度O（1.618^n）,而且最深度1000\n",
    "\n",
    "## 第二种 递推法\n",
    "def fib_loop(n):\n",
    "  a, b = 0, 1\n",
    "  for i in range(n+1):\n",
    "    a, b = b, a+b\n",
    "    return a\n",
    "\n",
    "for i in range(20):\n",
    "  print(fib_loop(i), end=' ')\n",
    "递推法，就是递增法，时间复杂度是 O(n)，呈线性增长，如果数据量巨大，速度会越拖越慢\n",
    "\n",
    "## 第三种 生成器\n",
    "def fib_loop_while(max):\n",
    "  a, b = 0, 1\n",
    "  while max > 0:\n",
    "    a, b = b, a+b\n",
    "    max -= 1\n",
    "    yield a\n",
    "\n",
    "for i in fib(10):\n",
    "    print(i, end=' ')\n",
    "带有yield的函数都被看成生成器，生成器是可迭代对象，且具备__iter__ 和 __next__方法， 可以遍历获取元素\n",
    "\n",
    "## 第四种 类实现内部魔法方法\n",
    "class Fibonacci(object):\n",
    "    def __init__(self, num):\n",
    "        self.num = num\n",
    "\n",
    "    def __iter__(self):\n",
    "        if self.num < 1:\n",
    "            return 1\n",
    "        a, b = 0, 1\n",
    "        while self.num > 0:\n",
    "            a, b = a + b, a\n",
    "            self.num -= 1\n",
    "            yield a\n",
    "\n",
    "    def __next__(self):\n",
    "        return self.__iter__()\n",
    "\n",
    "f = Fibonacci(15)\n",
    "for i in f:\n",
    "  print(i)\n",
    "## 第五种 矩阵\n",
    "\n",
    "\n",
    "### 1\n",
    "import numpy\n",
    "def fib_matrix(n):\n",
    "    res = pow((numpy.matrix([[1, 1], [1, 0]])), n) * numpy.matrix([[1], [0]])\n",
    "    return res[0][0]\n",
    "for i in range(10):\n",
    "    print(int(fib_matrix(i)), end=' ')\n",
    "\n",
    "### 2\n",
    "\n",
    "### 使用矩阵计算斐波那契数列\n",
    "def Fibonacci_Matrix_tool(n):\n",
    "    Matrix = npmpy.matrix(\"1 1;1 0\")\n",
    "    #返回是matrix类型\n",
    "    return pow(Matrix, n)  # pow函数速度快于 使用双星好 **\n",
    "\n",
    "def Fibonacci_Matrix(n):\n",
    "    result_list = []\n",
    "    for i in range(0, n):\n",
    "        result_list.append(numpy.array(Fibonacci_Matrix_tool(i))[0][0])\n",
    "    return result_list\n",
    " 调用\n",
    "Fibonacci_Matrix(10)\n",
    "因为幂运算可以使用二分加速，所以矩阵法的时间复杂度为 O(log n)\n",
    "用科学计算包numpy来实现矩阵法 O(log n)"
   ]
  },
  {
   "cell_type": "code",
   "execution_count": null,
   "metadata": {},
   "outputs": [],
   "source": []
  }
 ],
 "metadata": {
  "kernelspec": {
   "display_name": "Python 3",
   "language": "python",
   "name": "python3"
  },
  "language_info": {
   "codemirror_mode": {
    "name": "ipython",
    "version": 3
   },
   "file_extension": ".py",
   "mimetype": "text/x-python",
   "name": "python",
   "nbconvert_exporter": "python",
   "pygments_lexer": "ipython3",
   "version": "3.6.0"
  }
 },
 "nbformat": 4,
 "nbformat_minor": 2
}
